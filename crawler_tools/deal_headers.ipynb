{
 "cells": [
  {
   "cell_type": "code",
   "execution_count": 13,
   "metadata": {},
   "outputs": [],
   "source": [
    "#!/usr/bin/python\n",
    "# -*- coding:utf-8 -*-\n",
    "# author: Jola\n",
    "# datetime:2019/1/6 14:01\n",
    "# software-version: python 3.6\n",
    "\n",
    "\n",
    "def format_headers(text=''):\n",
    "#     if text == '':\n",
    "#         print('请复制您的headers到此处，输入【:q】结束输入')\n",
    "#         for line in iter(input, '\\n'):\n",
    "#             text += line + '\\n'\n",
    "    text += input('请复制您的headers到此处: \\n')\n",
    "        \n",
    "    result = []\n",
    "    text = text.replace('{', '').replace('}', '').replace(':q', '')\n",
    "    for each in text.split('\\n'):\n",
    "        if each == '':\n",
    "            continue\n",
    "        result.append(':'.join(['\\'' + e.replace(' ', '') + '\\'' for e in each.split(':')]) + ',')\n",
    "    return '\\n'.join(result)\n",
    "\n"
   ]
  },
  {
   "cell_type": "code",
   "execution_count": 14,
   "metadata": {},
   "outputs": [
    {
     "name": "stdout",
     "output_type": "stream",
     "text": [
      "请复制您的headers到此处: \n",
      "Accept: text/html,application/xhtml+xml,application/xml;q=0.9,image/webp,image/apng,*/*;q=0.8 Accept-Encoding: gzip, deflate Accept-Language: zh-CN,zh;q=0.9 Cache-Control: max-age=0 Connection: keep-alive Cookie: _xsrf=2|f1687ae7|a25167f74d4d8db10ce7593aed773214|1546758189; username-119-29-187-65-8888=\"2|1:0|10:1546758196|27:username-119-29-187-65-8888|44:NjE2ZDgwMjg0NTQzNDBjNjlhZDNhMTExNmQ5MTQwYmU=|ec19e874e48d4e5143eb3451fd93cfc0f6b102b8135a783d66a1e4d188782b4f\" Host: 119.29.187.65:8888 If-None-Match: \"581329559474afec72d4230701ae269dd371b112\" Referer: http://119.29.187.65:8888/login?next=%2Ftree%3F Upgrade-Insecure-Requests: 1 User-Agent: Mozilla/5.0 (Windows NT 10.0; Win64; x64) AppleWebKit/537.36 (KHTML, like Gecko) Chrome/71.0.3578.98 Safari/537.36\n",
      "'Accept':'text/html,application/xhtml+xml,application/xml;q=0.9,image/webp,image/apng,*/*;q=0.8Accept-Encoding':'gzip,deflateAccept-Language':'zh-CN,zh;q=0.9Cache-Control':'max-age=0Connection':'keep-aliveCookie':'_xsrf=2|f1687ae7|a25167f74d4d8db10ce7593aed773214|1546758189;username-119-29-187-65-8888=\"2|1':'0|10':'1546758196|27':'username-119-29-187-65-8888|44':'NjE2ZDgwMjg0NTQzNDBjNjlhZDNhMTExNmQ5MTQwYmU=|ec19e874e48d4e5143eb3451fd93cfc0f6b102b8135a783d66a1e4d188782b4f\"Host':'119.29.187.65':'8888If-None-Match':'\"581329559474afec72d4230701ae269dd371b112\"Referer':'http':'//119.29.187.65':'8888/login?next=%2Ftree%3FUpgrade-Insecure-Requests':'1User-Agent':'Mozilla/5.0(WindowsNT10.0;Win64;x64)AppleWebKit/537.36(KHTML,likeGecko)Chrome/71.0.3578.98Safari/537.36',\n"
     ]
    }
   ],
   "source": [
    "print(format_headers())"
   ]
  },
  {
   "cell_type": "code",
   "execution_count": null,
   "metadata": {},
   "outputs": [],
   "source": []
  }
 ],
 "metadata": {
  "kernelspec": {
   "display_name": "Python 3",
   "language": "python",
   "name": "python3"
  },
  "language_info": {
   "codemirror_mode": {
    "name": "ipython",
    "version": 3
   },
   "file_extension": ".py",
   "mimetype": "text/x-python",
   "name": "python",
   "nbconvert_exporter": "python",
   "pygments_lexer": "ipython3",
   "version": "3.6.5"
  }
 },
 "nbformat": 4,
 "nbformat_minor": 2
}
