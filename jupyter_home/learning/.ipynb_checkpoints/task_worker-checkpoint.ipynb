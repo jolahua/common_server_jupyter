{
 "cells": [
  {
   "cell_type": "code",
   "execution_count": 1,
   "metadata": {},
   "outputs": [
    {
     "name": "stdout",
     "output_type": "stream",
     "text": [
      "Connect to server 127.0.0.1...\n",
      "run task 247 * 247...\n",
      "run task 6540 * 6540...\n",
      "run task 2223 * 2223...\n",
      "run task 872 * 872...\n",
      "run task 6748 * 6748...\n",
      "run task 2521 * 2521...\n",
      "run task 3825 * 3825...\n",
      "run task 2607 * 2607...\n",
      "run task 6582 * 6582...\n",
      "run task 5267 * 5267...\n",
      "worker exit.\n"
     ]
    }
   ],
   "source": [
    "import time, sys, queue\n",
    "from multiprocessing.managers import BaseManager\n",
    "\n",
    "# 创建类似的QueueManager:\n",
    "class QueueManager(BaseManager):\n",
    "    pass\n",
    "\n",
    "# 由于这个QueueManager只从网络上获取Queue，所以注册时只提供名字:\n",
    "QueueManager.register('get_task_queue')\n",
    "QueueManager.register('get_result_queue')\n",
    "\n",
    "# 连接到服务器，也就是运行task_master.py的机器:\n",
    "server_addr = '127.0.0.1'\n",
    "print('Connect to server %s...' % server_addr)\n",
    "# 端口和验证码注意保持与task_master.py设置的完全一致:\n",
    "m = QueueManager(address=(server_addr, 5000), authkey=b'abc')\n",
    "# 从网络连接:\n",
    "m.connect()\n",
    "# 获取Queue的对象:\n",
    "task = m.get_task_queue()\n",
    "result = m.get_result_queue()\n",
    "# 从task队列取任务,并把结果写入result队列:\n",
    "for i in range(10):\n",
    "    try:\n",
    "        n = task.get(timeout=1)\n",
    "        print('run task %d * %d...' % (n, n))\n",
    "        r = '%d * %d = %d' % (n, n, n * n)\n",
    "        time.sleep(1)\n",
    "        result.put(r)\n",
    "    except Queue.Empty:\n",
    "        print('task queue is empty.')\n",
    "\n",
    "# 处理接触\n",
    "print('worker exit.')\n",
    "        "
   ]
  },
  {
   "cell_type": "code",
   "execution_count": null,
   "metadata": {},
   "outputs": [],
   "source": [
    "s = socket.socket(socket.AF_INET, socket.SOCK_STREAM)\n",
    "# 建立连接:\n",
    "s.connect(('127.0.0.1', 9998))\n",
    "# 接收欢迎消息:\n",
    "print(s.recv(1024).decode('utf-8'))\n",
    "for data in [b'Michael', b'Tracy', b'Sarah']:\n",
    "    # 发送数据:\n",
    "    s.send(data)\n",
    "    print(s.recv(1024).decode('utf-8'))\n",
    "s.send(b'exit')\n",
    "s.close()"
   ]
  }
 ],
 "metadata": {
  "kernelspec": {
   "display_name": "Python 3",
   "language": "python",
   "name": "python3"
  },
  "language_info": {
   "codemirror_mode": {
    "name": "ipython",
    "version": 3
   },
   "file_extension": ".py",
   "mimetype": "text/x-python",
   "name": "python",
   "nbconvert_exporter": "python",
   "pygments_lexer": "ipython3",
   "version": "3.6.5"
  }
 },
 "nbformat": 4,
 "nbformat_minor": 2
}
