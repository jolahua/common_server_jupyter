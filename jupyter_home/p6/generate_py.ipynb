{
 "cells": [
  {
   "cell_type": "markdown",
   "metadata": {},
   "source": [
    "# 规范\n",
    "\n",
    "<font size=3>提交的项目中必须至少包含两个文件：train.py 和 predict.py。第一个文件 train.py 将用数据集训练新的网络，并将模型保存为检查点。第二个文件 predict.py 将使用训练的网络预测输入图像的类别。你可以随意创建其他文件。我们建议你为与模型相关的函数和类创建一个文件，并为加载数据和预处理图像等实用函数创建另一个文件。</font>\n",
    "\n",
    "## 确保在提交的文件夹中包含运行 train.py 和 predict.py 所需的所有必要文件。\n",
    "\n",
    "####  使用 train.py 用数据集训练新的网络\n",
    "\n",
    "   * 基本用途：<font color=#dd0000 size=3> python train.py data_directory</font>\n",
    "   * 在训练网络时，输出训练损失、验证损失和验证准确率\n",
    "   * 选项：\n",
    "    * 设置保存检查点的目录：<font color=#dd0000 size=3> python train.py data_dir --save_dir save_directory</font>\n",
    "    * 选择架构：<font color=#dd0000 size=3>python train.py data_dir --arch \"vgg13\"</font>\n",
    "    * 设置超参数：<font color=#dd0000 size=3>python train.py data_dir --learning_rate 0.01 --hidden_units 512 --epochs 20</font>\n",
    "    * 使用 GPU 进行训练：<font color=#dd0000 size=3>python train.py data_dir --gpu</font>\n",
    "    \n",
    "####  使用 predict.py 预测图像的花卉名称以及该名称的概率\n",
    "\n",
    "   * 基本用途：<font color=#dd0000 size=3>python predict.py input checkpoint</font>\n",
    "   * 选项：\n",
    "        * 返回前 KK 个类别：<font color=#dd0000 size=3>python predict.py input checkpoint --top_k 3</font>\n",
    "        * 使用类别到真实名称的映射：<font color=#dd0000 size=3>python predict.py input checkpoint --category_names cat_to_name.json</font>\n",
    "        * 使用 GPU 进行训练：<font color=#dd0000 size=3>python predict.py input checkpoint --gpu</font>\n",
    "        * 将命令行输入放入脚本中的最佳方式是使用标准库中的 argparse 模块。你还可以在此处找到相关的 argparse 教程。\n"
   ]
  },
  {
   "cell_type": "code",
   "execution_count": null,
   "metadata": {},
   "outputs": [],
   "source": []
  }
 ],
 "metadata": {
  "kernelspec": {
   "display_name": "Python 3",
   "language": "python",
   "name": "python3"
  },
  "language_info": {
   "codemirror_mode": {
    "name": "ipython",
    "version": 3
   },
   "file_extension": ".py",
   "mimetype": "text/x-python",
   "name": "python",
   "nbconvert_exporter": "python",
   "pygments_lexer": "ipython3",
   "version": "3.6.5"
  }
 },
 "nbformat": 4,
 "nbformat_minor": 2
}
