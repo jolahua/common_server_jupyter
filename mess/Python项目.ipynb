{
 "cells": [
  {
   "cell_type": "markdown",
   "metadata": {},
   "source": [
    "## 1、 Python3 实现火车票查询工具\n",
    "    该项目使用 Python3 抓取 12306 网站信息提供一个命令行的火车票查询工具。通过\n",
    "    该项目的实现，可以熟悉 Python3 基础及网络编程，以及 docopt，requests，\n",
    "    prettytable 等库的使用。\n",
    "## 2、 Python3 色情图片识别\n",
    "    该项目使用 Python3 去识别图片是否为色情图片，会使用到 PIL 这个图像处理库，\n",
    "    会编写算法来完成对划分图像的皮肤区域。\n",
    "## 3、 基于 PyQt5 实现地图中定位相片拍摄位置\n",
    "    该项目主要学习如何查找相片中的 Exif 信息，并通过 Exif 信息中的 GPS 数据在百度地\n",
    "    图中进行定位标点，以确定相片的拍摄地点！\n",
    "## 4、 高德 API+Python 解决租房问题\n",
    "    该项目编写 Python 脚本爬取某租房网站的房源信息，利用高德的 js API 在地图上标\n",
    "    出房源地点，划出距离工作地点 1 小时内可到达的范围，附上公交路径规划功能。\n",
    "## 5、 基于 Flask 及爬虫实现微信娱乐机器人\n",
    "    该项目是基于 Flask Web 框架开发的娱乐级别的微信公众号后台，提供机器人聊天功\n",
    "    能，涉及到微信的公众平台开发知识。学习并实践 python 编程，Flask Web 开发以及微\n",
    "    信公众平台开发机器人的基本步骤。\n",
    "## 6、 Python 实现端口扫描器\n",
    "    项目使用 Python 语言开发服务器端口扫描器，用来检测目标服务器上有哪些端口开\n",
    "    放。适用于有 Python 和 计算机网络语言基础的用户。涉及 Python 网络开发，端口扫\n",
    "    描，多线程，python-nmap 包等知识点。\n",
    "## 7、 自拟题目：\n",
    "    自拟题目请联系任课老师，发自拟题目和需求分析给任课老师，根据任课老师的回复确\n",
    "    认题目。\n",
    "    自拟题目必须有一定的现实背景和意义，有一定的实际应用价值。\n"
   ]
  },
  {
   "cell_type": "code",
   "execution_count": null,
   "metadata": {},
   "outputs": [],
   "source": []
  }
 ],
 "metadata": {
  "kernelspec": {
   "display_name": "Python 3",
   "language": "python",
   "name": "python3"
  },
  "language_info": {
   "codemirror_mode": {
    "name": "ipython",
    "version": 3
   },
   "file_extension": ".py",
   "mimetype": "text/x-python",
   "name": "python",
   "nbconvert_exporter": "python",
   "pygments_lexer": "ipython3",
   "version": "3.6.5"
  }
 },
 "nbformat": 4,
 "nbformat_minor": 2
}
