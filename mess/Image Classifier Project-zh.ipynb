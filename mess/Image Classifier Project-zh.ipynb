{
 "cells": [
  {
   "cell_type": "markdown",
   "metadata": {},
   "source": [
    "# 开发 AI 应用\n",
    "\n",
    "未来，AI 算法在日常生活中的应用将越来越广泛。例如，你可能想要在智能手机应用中包含图像分类器。为此，在整个应用架构中，你将使用一个用成百上千个图像训练过的深度学习模型。未来的软件开发很大一部分将是使用这些模型作为应用的常用部分。\n",
    "\n",
    "在此项目中，你将训练一个图像分类器来识别不同的花卉品种。可以想象有这么一款手机应用，当你对着花卉拍摄时，它能够告诉你这朵花的名称。在实际操作中，你会训练此分类器，然后导出它以用在你的应用中。我们将使用[此数据集](http://www.robots.ox.ac.uk/~vgg/data/flowers/102/index.html)，其中包含 102 个花卉类别。你可以在下面查看几个示例。 \n",
    "\n",
    "<img src='assets/Flowers.png' width=500px>\n",
    "\n",
    "该项目分为多个步骤：\n",
    "\n",
    "* 加载和预处理图像数据集\n",
    "* 用数据集训练图像分类器\n",
    "* 使用训练的分类器预测图像内容\n",
    "\n",
    "我们将指导你完成每一步，你将用 Python 实现这些步骤。\n",
    "\n",
    "完成此项目后，你将拥有一个可以用任何带标签图像的数据集进行训练的应用。你的网络将学习花卉，并成为一个命令行应用。但是，你对新技能的应用取决于你的想象力和构建数据集的精力。例如，想象有一款应用能够拍摄汽车，告诉你汽车的制造商和型号，然后查询关于该汽车的信息。构建你自己的数据集并开发一款新型应用吧。\n",
    "\n",
    "首先，导入你所需的软件包。建议在代码开头导入所有软件包。当你创建此 notebook 时，如果发现你需要导入某个软件包，确保在开头导入该软件包。"
   ]
  },
  {
   "cell_type": "code",
   "execution_count": 1,
   "metadata": {},
   "outputs": [],
   "source": [
    "# Imports here\n",
    "import os\n",
    "import sys\n",
    "\n",
    "import json\n",
    "import random\n",
    "\n",
    "import numpy as np\n",
    "import matplotlib.pyplot as plt\n",
    "from PIL import Image\n",
    "import torch\n",
    "from torch import nn, optim\n",
    "import torch.nn.functional as F\n",
    "from torch.autograd import Variable\n",
    "from torchvision import datasets, transforms, models\n",
    "from collections import OrderedDict\n"
   ]
  },
  {
   "cell_type": "markdown",
   "metadata": {},
   "source": [
    "## 加载数据\n",
    "\n",
    "在此项目中，你将使用 `torchvision` 加载数据（[文档](http://pytorch.org/docs/master/torchvision/transforms.html#)）。数据应该和此 notebook 一起包含在内，否则你可以[在此处下载数据](https://s3.amazonaws.com/content.udacity-data.com/nd089/flower_data.tar.gz)。数据集分成了三部分：训练集、验证集和测试集。对于训练集，你需要变换数据，例如随机缩放、剪裁和翻转。这样有助于网络泛化，并带来更好的效果。你还需要确保将输入数据的大小调整为 224x224 像素，因为预训练的网络需要这么做。\n",
    "\n",
    "验证集和测试集用于衡量模型对尚未见过的数据的预测效果。对此步骤，你不需要进行任何缩放或旋转变换，但是需要将图像剪裁到合适的大小。\n",
    "\n",
    "对于所有三个数据集，你都需要将均值和标准差标准化到网络期望的结果。均值为 `[0.485, 0.456, 0.406]`，标准差为 `[0.229, 0.224, 0.225]`。这样使得每个颜色通道的值位于 -1 到 1 之间，而不是 0 到 1 之间。"
   ]
  },
  {
   "cell_type": "code",
   "execution_count": 2,
   "metadata": {},
   "outputs": [],
   "source": [
    "train_dir = 'train'\n",
    "valid_dir = 'valid'\n",
    "test_dir = 'test'"
   ]
  },
  {
   "cell_type": "code",
   "execution_count": 3,
   "metadata": {},
   "outputs": [],
   "source": [
    "# TODO: Define your transforms for the training, validation, and testing sets\n",
    "# train_transforms = transforms.Compose([\n",
    "#     transforms.RandomRotation(30),  # 随机旋转\n",
    "#     transforms.RandomResizedCrop(224),  # 裁剪为随机大小和高度比\n",
    "#     transforms.RandomHorizontalFlip(),  # 给定概率随机水平翻转\n",
    "#     transforms.ToTensor(),  # 转化为张量，即totch可读类型\n",
    "#     transforms.Normalize([0.485, 0.456, 0.406],  # 用平均值和标准差归一化张量图像\n",
    "#                          [0.229, 0.224, 0.225])\n",
    "# ])\n",
    "train_transforms = transforms.Compose([transforms.RandomRotation(30),  # 随机旋转\n",
    "                                       transforms.RandomResizedCrop(224),  # 裁剪为随机大小和高度比\n",
    "                                       transforms.RandomHorizontalFlip(),  # 给定概率随机水平翻转\n",
    "                                       transforms.ToTensor(),  # 转化为张量，即totch可读类型\n",
    "                                       transforms.Normalize([0.485, 0.456, 0.406],  # 用平均值和标准差归一化张量图像\n",
    "                                                            [0.229, 0.224, 0.225])])\n",
    "\n",
    "test_transforms = transforms.Compose([\n",
    "                                      transforms.Resize(256),\n",
    "                                      transforms.CenterCrop(224),\n",
    "                                      transforms.ToTensor(),\n",
    "                                      transforms.Normalize([0.485, 0.456, 0.406], \n",
    "                                                           [0.229, 0.224, 0.225])])\n",
    "\n",
    "valid_transforms = test_transforms\n",
    "\n",
    "folder = 'flowers'\n",
    "# TODO: Load the datasets with ImageFolder\n",
    "train_datasets = datasets.ImageFolder(folder + '/' + train_dir, transform=train_transforms)\n",
    "test_datasets = datasets.ImageFolder(folder + '/' + test_dir, transform=test_transforms)\n",
    "valid_datasets = datasets.ImageFolder(folder + '/' + valid_dir, transform=valid_transforms)\n",
    "# 图像数据加载器\n",
    "\n",
    "# TODO: Using the image datasets and the trainforms, define the dataloaders\n",
    "trainloaders = torch.utils.data.DataLoader(train_datasets, batch_size=64, shuffle=True)\n",
    "testloaders = torch.utils.data.DataLoader(test_datasets, batch_size=32, shuffle=True)\n",
    "validloaders = torch.utils.data.DataLoader(valid_datasets, batch_size=32)\n",
    "# 数据加载器  组合数据集和采样器"
   ]
  },
  {
   "cell_type": "markdown",
   "metadata": {},
   "source": [
    "### 标签映射\n",
    "\n",
    "你还需要加载从类别标签到类别名称的映射。你可以在文件 `cat_to_name.json` 中找到此映射。它是一个 JSON 对象，可以使用 [`json` 模块](https://docs.python.org/2/library/json.html)读取它。这样可以获得一个从整数编码的类别到实际花卉名称的映射字典。"
   ]
  },
  {
   "cell_type": "code",
   "execution_count": 27,
   "metadata": {
    "scrolled": true
   },
   "outputs": [
    {
     "name": "stdout",
     "output_type": "stream",
     "text": [
      "102\n"
     ]
    }
   ],
   "source": [
    "\n",
    "with open('cat_to_name.json', 'r') as f:\n",
    "    cat_to_name = json.load(f)\n",
    "    print(len(cat_to_name))"
   ]
  },
  {
   "cell_type": "markdown",
   "metadata": {},
   "source": [
    "# 构建和训练分类器\n",
    "\n",
    "数据准备好后，就开始构建和训练分类器了。和往常一样，你应该使用 `torchvision.models` 中的某个预训练模型获取图像特征。使用这些特征构建和训练新的前馈分类器。\n",
    "\n",
    "这部分将由你来完成。如果你想与他人讨论这部分，欢迎与你的同学讨论！你还可以在论坛上提问或在工作时间内咨询我们的课程经理和助教导师。\n",
    "\n",
    "请参阅[审阅标准](https://review.udacity.com/#!/rubrics/1663/view)，了解如何成功地完成此部分。你需要执行以下操作：\n",
    "\n",
    "* 加载[预训练的网络](http://pytorch.org/docs/master/torchvision/models.html)（如果你需要一个起点，推荐使用 VGG 网络，它简单易用）\n",
    "* 使用 ReLU 激活函数和丢弃定义新的未训练前馈网络作为分类器\n",
    "* 使用反向传播训练分类器层，并使用预训练的网络获取特征\n",
    "* 跟踪验证集的损失和准确率，以确定最佳超参数\n",
    "\n",
    "我们在下面为你留了一个空的单元格，但是你可以使用多个单元格。建议将问题拆分为更小的部分，并单独运行。检查确保每部分都达到预期效果，然后再完成下个部分。你可能会发现，当你实现每部分时，可能需要回去修改之前的代码，这很正常！\n",
    "\n",
    "训练时，确保仅更新前馈网络的权重。如果一切构建正确的话，验证准确率应该能够超过 70%。确保尝试不同的超参数（学习速率、分类器中的单元、周期等），寻找最佳模型。保存这些超参数并用作项目下个部分的默认值。"
   ]
  },
  {
   "cell_type": "code",
   "execution_count": 10,
   "metadata": {},
   "outputs": [
    {
     "data": {
      "text/plain": [
       "VGG(\n",
       "  (features): Sequential(\n",
       "    (0): Conv2d(3, 64, kernel_size=(3, 3), stride=(1, 1), padding=(1, 1))\n",
       "    (1): ReLU(inplace)\n",
       "    (2): Conv2d(64, 64, kernel_size=(3, 3), stride=(1, 1), padding=(1, 1))\n",
       "    (3): ReLU(inplace)\n",
       "    (4): MaxPool2d(kernel_size=2, stride=2, padding=0, dilation=1, ceil_mode=False)\n",
       "    (5): Conv2d(64, 128, kernel_size=(3, 3), stride=(1, 1), padding=(1, 1))\n",
       "    (6): ReLU(inplace)\n",
       "    (7): Conv2d(128, 128, kernel_size=(3, 3), stride=(1, 1), padding=(1, 1))\n",
       "    (8): ReLU(inplace)\n",
       "    (9): MaxPool2d(kernel_size=2, stride=2, padding=0, dilation=1, ceil_mode=False)\n",
       "    (10): Conv2d(128, 256, kernel_size=(3, 3), stride=(1, 1), padding=(1, 1))\n",
       "    (11): ReLU(inplace)\n",
       "    (12): Conv2d(256, 256, kernel_size=(3, 3), stride=(1, 1), padding=(1, 1))\n",
       "    (13): ReLU(inplace)\n",
       "    (14): Conv2d(256, 256, kernel_size=(3, 3), stride=(1, 1), padding=(1, 1))\n",
       "    (15): ReLU(inplace)\n",
       "    (16): MaxPool2d(kernel_size=2, stride=2, padding=0, dilation=1, ceil_mode=False)\n",
       "    (17): Conv2d(256, 512, kernel_size=(3, 3), stride=(1, 1), padding=(1, 1))\n",
       "    (18): ReLU(inplace)\n",
       "    (19): Conv2d(512, 512, kernel_size=(3, 3), stride=(1, 1), padding=(1, 1))\n",
       "    (20): ReLU(inplace)\n",
       "    (21): Conv2d(512, 512, kernel_size=(3, 3), stride=(1, 1), padding=(1, 1))\n",
       "    (22): ReLU(inplace)\n",
       "    (23): MaxPool2d(kernel_size=2, stride=2, padding=0, dilation=1, ceil_mode=False)\n",
       "    (24): Conv2d(512, 512, kernel_size=(3, 3), stride=(1, 1), padding=(1, 1))\n",
       "    (25): ReLU(inplace)\n",
       "    (26): Conv2d(512, 512, kernel_size=(3, 3), stride=(1, 1), padding=(1, 1))\n",
       "    (27): ReLU(inplace)\n",
       "    (28): Conv2d(512, 512, kernel_size=(3, 3), stride=(1, 1), padding=(1, 1))\n",
       "    (29): ReLU(inplace)\n",
       "    (30): MaxPool2d(kernel_size=2, stride=2, padding=0, dilation=1, ceil_mode=False)\n",
       "  )\n",
       "  (classifier): Sequential(\n",
       "    (0): Linear(in_features=25088, out_features=4096, bias=True)\n",
       "    (1): ReLU(inplace)\n",
       "    (2): Dropout(p=0.5)\n",
       "    (3): Linear(in_features=4096, out_features=4096, bias=True)\n",
       "    (4): ReLU(inplace)\n",
       "    (5): Dropout(p=0.5)\n",
       "    (6): Linear(in_features=4096, out_features=1000, bias=True)\n",
       "  )\n",
       ")"
      ]
     },
     "execution_count": 10,
     "metadata": {},
     "output_type": "execute_result"
    }
   ],
   "source": [
    "model = models.vgg16(pretrained=True)\n",
    "# model = models.resnet50(pretrained=True)\n",
    "model"
   ]
  },
  {
   "cell_type": "code",
   "execution_count": 11,
   "metadata": {},
   "outputs": [],
   "source": [
    "for param in model.parameters():\n",
    "    # 冻结特征工程，不需要重新训练\n",
    "    param.required_grad = False\n",
    "\n",
    "# VGG16\n",
    "classifier = nn.Sequential(OrderedDict([\n",
    "    ('fc1', nn.Linear(25088, 4096)),\n",
    "    ('relu1', nn.ReLU()),\n",
    "    ('drop1', nn.Dropout(0.5)),\n",
    "    ('fc2', nn.Linear(4096, 768)),\n",
    "    ('relu2', nn.ReLU()),\n",
    "    ('drop2', nn.Dropout(0.5)),\n",
    "    ('fc3', nn.Linear(768, 102)),\n",
    "    ('output', nn.LogSoftmax(dim=1))\n",
    "]))\n",
    "\n",
    "# Resnet\n",
    "# classifier = nn.Sequential(OrderedDict([\n",
    "#     ('fc1', nn.Linear(2048, 1000)),\n",
    "#     ('relu1', nn.ReLU()),\n",
    "#     ('drop1', nn.Dropout(0.5)),\n",
    "#     ('fc3', nn.Linear(1000, 102)),\n",
    "#     ('output', nn.LogSoftmax(dim=1))\n",
    "# ]))\n",
    "model.classifier = classifier"
   ]
  },
  {
   "cell_type": "code",
   "execution_count": 11,
   "metadata": {},
   "outputs": [],
   "source": [
    "criterion = nn.NLLLoss()\n",
    "optimizer = optim.Adam(model.classifier.parameters(), lr=0.001)\n",
    "# optimizer = optim.SGD(model.classifier.parameters(), lr = 0.001, momentum=0.9)"
   ]
  },
  {
   "cell_type": "code",
   "execution_count": 7,
   "metadata": {},
   "outputs": [],
   "source": [
    "def valid_train(models, dataloaders, criterion, device):\n",
    "    \n",
    "    valid_loss = 0 \n",
    "    valid_accuracy = 0\n",
    "    valid_len = len(dataloaders)\n",
    "    \n",
    "    model.to(device)\n",
    "    models.eval()   # 取消dropout\n",
    "    \n",
    "    with torch.no_grad():\n",
    "        \n",
    "        for ii, (images, labels) in enumerate(dataloaders):\n",
    "            images, labels = images.to(device), labels.to(device)\n",
    "            outputs = models.forward(images)\n",
    "            \n",
    "            valid_loss += criterion(outputs, labels).item()\n",
    "            \n",
    "            ps = torch.exp(outputs)\n",
    "            equality = (labels.data == ps.max(1)[1])\n",
    "            valid_accuracy += equality.type_as(torch.FloatTensor()).mean()\n",
    "            \n",
    "    return valid_loss / valid_len, valid_accuracy / valid_len\n",
    "            "
   ]
  },
  {
   "cell_type": "code",
   "execution_count": 8,
   "metadata": {},
   "outputs": [],
   "source": [
    "# TODO: Build and train your network\n",
    "\n",
    "def train(device, epochs):\n",
    "    print_every = 33\n",
    "    steps = 0\n",
    "    running_loss = 0\n",
    "    # change to cuda\n",
    "    model.to(device)\n",
    "\n",
    "    for e in range(epochs):\n",
    "    #     if e == 2:\n",
    "    #         for param_group in optimizer.param_groups:\n",
    "    #             param_group['lr'] = param_group['lr'] * 0.5\n",
    "\n",
    "        for ii, (inputs, labels) in enumerate(trainloaders):\n",
    "            if ii % 2 == 0:\n",
    "                print('====currenti', ii)\n",
    "            steps += 1\n",
    "    #         print(labels)\n",
    "            inputs, labels = inputs.to(device), labels.to(device)\n",
    "\n",
    "            optimizer.zero_grad()\n",
    "\n",
    "            # Forward and backward passes\n",
    "            outputs = model.forward(inputs)\n",
    "            loss = criterion(outputs, labels)\n",
    "            loss.backward()\n",
    "            optimizer.step()\n",
    "\n",
    "            running_loss += loss.item()\n",
    "\n",
    "            if steps % print_every == 0:\n",
    "                valid_loss, valid_accuracy = valid_train(model, testloaders, criterion, device)\n",
    "                print(\"Epoch: {}/{}... \".format(e + 1, epochs),\n",
    "                      \"Train Loss: {:.4f}.. \".format(running_loss / print_every),\n",
    "                      \"Valid Loss: {:.4f}.. \".format(valid_loss),\n",
    "                      \"Valid Accuracy: {:.2f}% .. \".format(valid_accuracy * 100),)\n",
    "\n",
    "                running_loss = 0\n",
    "                model.train()\n"
   ]
  },
  {
   "cell_type": "code",
   "execution_count": 17,
   "metadata": {
    "scrolled": true
   },
   "outputs": [
    {
     "name": "stdout",
     "output_type": "stream",
     "text": [
      "====currenti 0\n",
      "====currenti 2\n",
      "====currenti 4\n",
      "====currenti 6\n",
      "====currenti 8\n",
      "====currenti 10\n",
      "====currenti 12\n",
      "====currenti 14\n",
      "====currenti 16\n",
      "====currenti 18\n",
      "====currenti 20\n",
      "====currenti 22\n",
      "====currenti 24\n",
      "====currenti 26\n",
      "====currenti 28\n",
      "====currenti 30\n",
      "====currenti 32\n",
      "Epoch: 1/5...  Train Loss: 4.4725..  Valid Loss: 3.3708..  Valid Accuracy: 25.20% .. \n",
      "====currenti 34\n",
      "====currenti 36\n",
      "====currenti 38\n",
      "====currenti 40\n",
      "====currenti 42\n",
      "====currenti 44\n",
      "====currenti 46\n",
      "====currenti 48\n",
      "====currenti 50\n",
      "====currenti 52\n",
      "====currenti 54\n",
      "====currenti 56\n",
      "====currenti 58\n",
      "====currenti 60\n",
      "====currenti 62\n",
      "====currenti 64\n",
      "Epoch: 1/5...  Train Loss: 3.3727..  Valid Loss: 2.2111..  Valid Accuracy: 45.36% .. \n",
      "====currenti 66\n",
      "====currenti 68\n",
      "====currenti 70\n",
      "====currenti 72\n",
      "====currenti 74\n",
      "====currenti 76\n",
      "====currenti 78\n",
      "====currenti 80\n",
      "====currenti 82\n",
      "====currenti 84\n",
      "====currenti 86\n",
      "====currenti 88\n",
      "====currenti 90\n",
      "====currenti 92\n",
      "====currenti 94\n",
      "====currenti 96\n",
      "====currenti 98\n",
      "Epoch: 1/5...  Train Loss: 2.7503..  Valid Loss: 1.7290..  Valid Accuracy: 57.23% .. \n",
      "====currenti 100\n",
      "====currenti 102\n",
      "====currenti 0\n",
      "====currenti 2\n",
      "====currenti 4\n",
      "====currenti 6\n",
      "====currenti 8\n",
      "====currenti 10\n",
      "====currenti 12\n",
      "====currenti 14\n",
      "====currenti 16\n",
      "====currenti 18\n",
      "====currenti 20\n",
      "====currenti 22\n",
      "====currenti 24\n",
      "====currenti 26\n",
      "====currenti 28\n",
      "Epoch: 2/5...  Train Loss: 2.3070..  Valid Loss: 1.4117..  Valid Accuracy: 62.21% .. \n",
      "====currenti 30\n",
      "====currenti 32\n",
      "====currenti 34\n",
      "====currenti 36\n",
      "====currenti 38\n",
      "====currenti 40\n",
      "====currenti 42\n",
      "====currenti 44\n",
      "====currenti 46\n",
      "====currenti 48\n",
      "====currenti 50\n",
      "====currenti 52\n",
      "====currenti 54\n",
      "====currenti 56\n",
      "====currenti 58\n",
      "====currenti 60\n",
      "Epoch: 2/5...  Train Loss: 2.1761..  Valid Loss: 1.3311..  Valid Accuracy: 62.53% .. \n",
      "====currenti 62\n",
      "====currenti 64\n",
      "====currenti 66\n",
      "====currenti 68\n",
      "====currenti 70\n",
      "====currenti 72\n",
      "====currenti 74\n",
      "====currenti 76\n",
      "====currenti 78\n",
      "====currenti 80\n",
      "====currenti 82\n",
      "====currenti 84\n",
      "====currenti 86\n",
      "====currenti 88\n",
      "====currenti 90\n",
      "====currenti 92\n",
      "====currenti 94\n",
      "Epoch: 2/5...  Train Loss: 2.0740..  Valid Loss: 1.1046..  Valid Accuracy: 70.86% .. \n",
      "====currenti 96\n",
      "====currenti 98\n",
      "====currenti 100\n",
      "====currenti 102\n",
      "====currenti 0\n",
      "====currenti 2\n",
      "====currenti 4\n",
      "====currenti 6\n",
      "====currenti 8\n",
      "====currenti 10\n",
      "====currenti 12\n",
      "====currenti 14\n",
      "====currenti 16\n",
      "====currenti 18\n",
      "====currenti 20\n",
      "====currenti 22\n",
      "====currenti 24\n",
      "Epoch: 3/5...  Train Loss: 1.8441..  Valid Loss: 0.9377..  Valid Accuracy: 73.31% .. \n",
      "====currenti 26\n",
      "====currenti 28\n",
      "====currenti 30\n",
      "====currenti 32\n",
      "====currenti 34\n",
      "====currenti 36\n",
      "====currenti 38\n",
      "====currenti 40\n",
      "====currenti 42\n",
      "====currenti 44\n",
      "====currenti 46\n",
      "====currenti 48\n",
      "====currenti 50\n",
      "====currenti 52\n",
      "====currenti 54\n",
      "====currenti 56\n",
      "Epoch: 3/5...  Train Loss: 1.8314..  Valid Loss: 0.8850..  Valid Accuracy: 76.07% .. \n",
      "====currenti 58\n",
      "====currenti 60\n",
      "====currenti 62\n",
      "====currenti 64\n",
      "====currenti 66\n",
      "====currenti 68\n",
      "====currenti 70\n",
      "====currenti 72\n",
      "====currenti 74\n",
      "====currenti 76\n",
      "====currenti 78\n",
      "====currenti 80\n",
      "====currenti 82\n",
      "====currenti 84\n",
      "====currenti 86\n",
      "====currenti 88\n",
      "====currenti 90\n",
      "Epoch: 3/5...  Train Loss: 1.6735..  Valid Loss: 0.8761..  Valid Accuracy: 73.47% .. \n",
      "====currenti 92\n",
      "====currenti 94\n",
      "====currenti 96\n",
      "====currenti 98\n",
      "====currenti 100\n",
      "====currenti 102\n",
      "====currenti 0\n",
      "====currenti 2\n",
      "====currenti 4\n",
      "====currenti 6\n",
      "====currenti 8\n",
      "====currenti 10\n",
      "====currenti 12\n",
      "====currenti 14\n",
      "====currenti 16\n",
      "====currenti 18\n",
      "====currenti 20\n",
      "Epoch: 4/5...  Train Loss: 1.6734..  Valid Loss: 0.8029..  Valid Accuracy: 77.63% .. \n",
      "====currenti 22\n",
      "====currenti 24\n",
      "====currenti 26\n",
      "====currenti 28\n",
      "====currenti 30\n",
      "====currenti 32\n",
      "====currenti 34\n",
      "====currenti 36\n",
      "====currenti 38\n",
      "====currenti 40\n",
      "====currenti 42\n",
      "====currenti 44\n",
      "====currenti 46\n",
      "====currenti 48\n",
      "====currenti 50\n",
      "====currenti 52\n",
      "Epoch: 4/5...  Train Loss: 1.6436..  Valid Loss: 0.8236..  Valid Accuracy: 77.83% .. \n",
      "====currenti 54\n",
      "====currenti 56\n",
      "====currenti 58\n",
      "====currenti 60\n",
      "====currenti 62\n",
      "====currenti 64\n",
      "====currenti 66\n",
      "====currenti 68\n",
      "====currenti 70\n",
      "====currenti 72\n",
      "====currenti 74\n",
      "====currenti 76\n",
      "====currenti 78\n",
      "====currenti 80\n",
      "====currenti 82\n",
      "====currenti 84\n",
      "====currenti 86\n",
      "Epoch: 4/5...  Train Loss: 1.6520..  Valid Loss: 0.7456..  Valid Accuracy: 78.60% .. \n",
      "====currenti 88\n",
      "====currenti 90\n",
      "====currenti 92\n",
      "====currenti 94\n",
      "====currenti 96\n",
      "====currenti 98\n",
      "====currenti 100\n",
      "====currenti 102\n",
      "====currenti 0\n",
      "====currenti 2\n",
      "====currenti 4\n",
      "====currenti 6\n",
      "====currenti 8\n",
      "====currenti 10\n",
      "====currenti 12\n",
      "====currenti 14\n",
      "====currenti 16\n",
      "Epoch: 5/5...  Train Loss: 1.5018..  Valid Loss: 0.7935..  Valid Accuracy: 77.55% .. \n",
      "====currenti 18\n",
      "====currenti 20\n",
      "====currenti 22\n",
      "====currenti 24\n",
      "====currenti 26\n",
      "====currenti 28\n",
      "====currenti 30\n",
      "====currenti 32\n",
      "====currenti 34\n",
      "====currenti 36\n",
      "====currenti 38\n",
      "====currenti 40\n",
      "====currenti 42\n",
      "====currenti 44\n",
      "====currenti 46\n",
      "====currenti 48\n",
      "Epoch: 5/5...  Train Loss: 1.6094..  Valid Loss: 0.7291..  Valid Accuracy: 79.96% .. \n",
      "====currenti 50\n",
      "====currenti 52\n",
      "====currenti 54\n",
      "====currenti 56\n",
      "====currenti 58\n",
      "====currenti 60\n",
      "====currenti 62\n",
      "====currenti 64\n",
      "====currenti 66\n",
      "====currenti 68\n",
      "====currenti 70\n",
      "====currenti 72\n",
      "====currenti 74\n",
      "====currenti 76\n",
      "====currenti 78\n",
      "====currenti 80\n",
      "====currenti 82\n",
      "Epoch: 5/5...  Train Loss: 1.5699..  Valid Loss: 0.7298..  Valid Accuracy: 80.36% .. \n",
      "====currenti 84\n",
      "====currenti 86\n",
      "====currenti 88\n",
      "====currenti 90\n",
      "====currenti 92\n",
      "====currenti 94\n",
      "====currenti 96\n",
      "====currenti 98\n",
      "====currenti 100\n",
      "====currenti 102\n",
      "=====Timing: 2018.3909695148468\n"
     ]
    }
   ],
   "source": [
    "# import time\n",
    "# time1 = time.time()\n",
    "# train('cuda', 5)\n",
    "# print('=====Timing: {}'.format(time.time() - time1))"
   ]
  },
  {
   "cell_type": "markdown",
   "metadata": {},
   "source": [
    "## 测试网络\n",
    "\n",
    "建议使用网络在训练或验证过程中从未见过的测试数据测试训练的网络。这样，可以很好地判断模型预测全新图像的效果。用网络预测测试图像，并测量准确率，就像验证过程一样。如果模型训练良好的话，你应该能够达到大约 70% 的准确率。"
   ]
  },
  {
   "cell_type": "code",
   "execution_count": 9,
   "metadata": {},
   "outputs": [
    {
     "name": "stdout",
     "output_type": "stream",
     "text": [
      "Loss: 0.6587..   Accuracy: 82.41% .. \n"
     ]
    }
   ],
   "source": [
    "result = valid_train(model, validloaders, criterion, 'cuda')\n",
    "print('Loss: {:.4f}..   Accuracy: {:.2f}% .. '.format(result[0], result[1] * 100))"
   ]
  },
  {
   "cell_type": "markdown",
   "metadata": {},
   "source": [
    "## 保存检查点\n",
    "\n",
    "训练好网络后，保存模型，以便稍后加载它并进行预测。你可能还需要保存其他内容，例如从类别到索引的映射，索引是从某个图像数据集中获取的：`image_datasets['train'].class_to_idx`。你可以将其作为属性附加到模型上，这样稍后推理会更轻松。"
   ]
  },
  {
   "cell_type": "code",
   "execution_count": 20,
   "metadata": {
    "attributes": {
     "": "",
     "classes": [],
     "id": ""
    }
   },
   "outputs": [],
   "source": [
    "\n",
    "# 注意，稍后你需要完全重新构建模型，以便用模型进行推理。确保在检查点中包含你所需的任何信息。\n",
    "# 如果你想加载模型并继续训练，则需要保存周期数量和优化器状态 `optimizer.state_dict`。\n",
    "# 你可能需要在下面的下个部分使用训练的模型，因此建议立即保存它。\n",
    "\n",
    "\n",
    "# ```python\n",
    "# TODO: Save the checkpoint \n",
    "def save_checkpoint(filepath):\n",
    "    checkpoint = {\n",
    "        'state_dict': model.state_dict(),\n",
    "#         'class_to_idx': train_datasets.class_to_idx,\n",
    "        'class_to_idx': cat_to_name,  # 不确定是不是这样转\n",
    "        'criterion': criterion,\n",
    "        'optimizer': optimizer\n",
    "    }\n",
    "    torch.save(checkpoint, filepath)\n",
    "\n",
    "    \n"
   ]
  },
  {
   "cell_type": "code",
   "execution_count": null,
   "metadata": {},
   "outputs": [],
   "source": [
    "save_checkpoint('checkpoint.pth')"
   ]
  },
  {
   "cell_type": "markdown",
   "metadata": {},
   "source": [
    "## 加载检查点\n",
    "\n",
    "此刻，建议写一个可以加载检查点并重新构建模型的函数。这样的话，你可以回到此项目并继续完善它，而不用重新训练网络。"
   ]
  },
  {
   "cell_type": "code",
   "execution_count": 29,
   "metadata": {},
   "outputs": [],
   "source": [
    "del(model)\n",
    "del(criterion)\n",
    "del(optimizer)\n",
    "# model\n",
    "# criterion\n",
    "# optimizer"
   ]
  },
  {
   "cell_type": "code",
   "execution_count": 12,
   "metadata": {},
   "outputs": [],
   "source": [
    "# TODO: Write a function that loads a checkpoint and rebuilds the model\n",
    "def load_model(filepath):\n",
    "    state_dict = torch.load(filepath, map_location=lambda storage, loc: storage)\n",
    "    model = models.vgg16(pretrained=True)\n",
    "    for param in model.parameters():\n",
    "    # 冻结特征工程，不需要重新训练\n",
    "        param.required_grad = False\n",
    "\n",
    "    # VGG16\n",
    "    classifier = nn.Sequential(OrderedDict([\n",
    "        ('fc1', nn.Linear(25088, 4096)),\n",
    "        ('relu1', nn.ReLU()),\n",
    "        ('drop1', nn.Dropout(0.5)),\n",
    "        ('fc2', nn.Linear(4096, 768)),\n",
    "        ('relu2', nn.ReLU()),\n",
    "        ('drop2', nn.Dropout(0.5)),\n",
    "        ('fc3', nn.Linear(768, 102)),\n",
    "        ('output', nn.LogSoftmax(dim=1))\n",
    "    ]))\n",
    "    \n",
    "    model.classifier = classifier\n",
    "    model.class_to_idx = state_dict['class_to_idx']\n",
    "    model.load_state_dict(state_dict['state_dict'])\n",
    "    criterion = state_dict['criterion']\n",
    "    optimizer = state_dict['optimizer']\n",
    "    return model, criterion, optimizer\n"
   ]
  },
  {
   "cell_type": "code",
   "execution_count": 13,
   "metadata": {
    "scrolled": true
   },
   "outputs": [
    {
     "name": "stderr",
     "output_type": "stream",
     "text": [
      "Downloading: \"https://download.pytorch.org/models/vgg16-397923af.pth\" to /root/.torch/models/vgg16-397923af.pth\n",
      "100%|██████████| 553433881/553433881 [01:12<00:00, 7638234.82it/s]\n"
     ]
    },
    {
     "name": "stdout",
     "output_type": "stream",
     "text": [
      "VGG(\n",
      "  (features): Sequential(\n",
      "    (0): Conv2d(3, 64, kernel_size=(3, 3), stride=(1, 1), padding=(1, 1))\n",
      "    (1): ReLU(inplace)\n",
      "    (2): Conv2d(64, 64, kernel_size=(3, 3), stride=(1, 1), padding=(1, 1))\n",
      "    (3): ReLU(inplace)\n",
      "    (4): MaxPool2d(kernel_size=2, stride=2, padding=0, dilation=1, ceil_mode=False)\n",
      "    (5): Conv2d(64, 128, kernel_size=(3, 3), stride=(1, 1), padding=(1, 1))\n",
      "    (6): ReLU(inplace)\n",
      "    (7): Conv2d(128, 128, kernel_size=(3, 3), stride=(1, 1), padding=(1, 1))\n",
      "    (8): ReLU(inplace)\n",
      "    (9): MaxPool2d(kernel_size=2, stride=2, padding=0, dilation=1, ceil_mode=False)\n",
      "    (10): Conv2d(128, 256, kernel_size=(3, 3), stride=(1, 1), padding=(1, 1))\n",
      "    (11): ReLU(inplace)\n",
      "    (12): Conv2d(256, 256, kernel_size=(3, 3), stride=(1, 1), padding=(1, 1))\n",
      "    (13): ReLU(inplace)\n",
      "    (14): Conv2d(256, 256, kernel_size=(3, 3), stride=(1, 1), padding=(1, 1))\n",
      "    (15): ReLU(inplace)\n",
      "    (16): MaxPool2d(kernel_size=2, stride=2, padding=0, dilation=1, ceil_mode=False)\n",
      "    (17): Conv2d(256, 512, kernel_size=(3, 3), stride=(1, 1), padding=(1, 1))\n",
      "    (18): ReLU(inplace)\n",
      "    (19): Conv2d(512, 512, kernel_size=(3, 3), stride=(1, 1), padding=(1, 1))\n",
      "    (20): ReLU(inplace)\n",
      "    (21): Conv2d(512, 512, kernel_size=(3, 3), stride=(1, 1), padding=(1, 1))\n",
      "    (22): ReLU(inplace)\n",
      "    (23): MaxPool2d(kernel_size=2, stride=2, padding=0, dilation=1, ceil_mode=False)\n",
      "    (24): Conv2d(512, 512, kernel_size=(3, 3), stride=(1, 1), padding=(1, 1))\n",
      "    (25): ReLU(inplace)\n",
      "    (26): Conv2d(512, 512, kernel_size=(3, 3), stride=(1, 1), padding=(1, 1))\n",
      "    (27): ReLU(inplace)\n",
      "    (28): Conv2d(512, 512, kernel_size=(3, 3), stride=(1, 1), padding=(1, 1))\n",
      "    (29): ReLU(inplace)\n",
      "    (30): MaxPool2d(kernel_size=2, stride=2, padding=0, dilation=1, ceil_mode=False)\n",
      "  )\n",
      "  (classifier): Sequential(\n",
      "    (fc1): Linear(in_features=25088, out_features=4096, bias=True)\n",
      "    (relu1): ReLU()\n",
      "    (drop1): Dropout(p=0.5)\n",
      "    (fc2): Linear(in_features=4096, out_features=768, bias=True)\n",
      "    (relu2): ReLU()\n",
      "    (drop2): Dropout(p=0.5)\n",
      "    (fc3): Linear(in_features=768, out_features=102, bias=True)\n",
      "    (output): LogSoftmax()\n",
      "  )\n",
      ")\n",
      "NLLLoss()\n",
      "Adam (\n",
      "Parameter Group 0\n",
      "    amsgrad: False\n",
      "    betas: (0.9, 0.999)\n",
      "    eps: 1e-08\n",
      "    lr: 0.001\n",
      "    weight_decay: 0\n",
      ")\n"
     ]
    }
   ],
   "source": [
    "model, criterion, optimizer = load_model('checkpoint.pth')\n",
    "print(model)\n",
    "print(criterion)\n",
    "print(optimizer)"
   ]
  },
  {
   "cell_type": "code",
   "execution_count": 14,
   "metadata": {},
   "outputs": [
    {
     "name": "stdout",
     "output_type": "stream",
     "text": [
      "/bin/sh: 1: nvidia-msi: not found\r\n"
     ]
    }
   ],
   "source": [
    "!nvidia-msi"
   ]
  },
  {
   "cell_type": "markdown",
   "metadata": {},
   "source": [
    "# 类别推理\n",
    "\n",
    "现在，你需要写一个使用训练的网络进行推理的函数。即你将向网络中传入一个图像，并预测图像中的花卉类别。写一个叫做 `predict` 的函数，该函数会接受图像和模型，然后返回概率在前 $K$ 的类别及其概率。应该如下所示："
   ]
  },
  {
   "cell_type": "markdown",
   "metadata": {},
   "source": [
    "首先，你需要处理输入图像，使其可以用于你的网络。\n",
    "\n",
    "## 图像处理\n",
    "\n",
    "你需要使用 `PIL` 加载图像（[文档](https://pillow.readthedocs.io/en/latest/reference/Image.html)）。建议写一个函数来处理图像，使图像可以作为模型的输入。该函数应该按照训练的相同方式处理图像。\n",
    "\n",
    "首先，调整图像大小，使最小的边为 256 像素，并保持宽高比。为此，可以使用 [`thumbnail`](http://pillow.readthedocs.io/en/3.1.x/reference/Image.html#PIL.Image.Image.thumbnail) 或 [`resize`](http://pillow.readthedocs.io/en/3.1.x/reference/Image.html#PIL.Image.Image.thumbnail) 方法。然后，你需要从图像的中心裁剪出 224x224 的部分。\n",
    "\n",
    "图像的颜色通道通常编码为整数 0-255，但是该模型要求值为浮点数 0-1。你需要变换值。使用 Numpy 数组最简单，你可以从 PIL 图像中获取，例如 `np_image = np.array(pil_image)`。\n",
    "\n",
    "和之前一样，网络要求图像按照特定的方式标准化。均值应标准化为 `[0.485, 0.456, 0.406]`，标准差应标准化为 `[0.229, 0.224, 0.225]`。你需要用每个颜色通道减去均值，然后除以标准差。\n",
    "\n",
    "最后，PyTorch 要求颜色通道为第一个维度，但是在 PIL 图像和 Numpy 数组中是第三个维度。你可以使用 [`ndarray.transpose`](https://docs.scipy.org/doc/numpy-1.13.0/reference/generated/numpy.ndarray.transpose.html)对维度重新排序。颜色通道必须是第一个维度，并保持另外两个维度的顺序。"
   ]
  },
  {
   "cell_type": "code",
   "execution_count": 15,
   "metadata": {},
   "outputs": [],
   "source": [
    "def process_image(image):\n",
    "    ''' Scales, crops, and normalizes a PIL image for a PyTorch model,\n",
    "        returns an Numpy array\n",
    "    '''\n",
    "    # Image read\n",
    "    image = Image.open(image)\n",
    "    \n",
    "    # use pytorch less efficiency\n",
    "#     trans = transforms.Compose([ transforms.Resize(256),\n",
    "#                                  transforms.CenterCrop(224),\n",
    "#                                  transforms.ToTensor(),\n",
    "#                                  transforms.Normalize([0.485, 0.456, 0.406],  [0.229, 0.224, 0.225])])\n",
    "\n",
    "#     image_tensor = trans(image)\n",
    "    \n",
    "    # use numpy 1.5 times efficiency\n",
    "    image = image.resize((256, 256))\n",
    "    image.thumbnail((224, 224))\n",
    "    \n",
    "    np_image = np.array(image) / 255\n",
    "    mean = np.array([0.485, 0.456, 0.406])\n",
    "    std = np.array([0.229, 0.224, 0.225])\n",
    "    np_image = (np_image - mean) / std\n",
    "    np_image = np_image.transpose((2, 0, 1))\n",
    "    \n",
    "    return np_image"
   ]
  },
  {
   "cell_type": "code",
   "execution_count": 114,
   "metadata": {},
   "outputs": [
    {
     "name": "stdout",
     "output_type": "stream",
     "text": [
      "[ 334.12663755  364.03571429  109.30666667]\n",
      "3\n"
     ]
    }
   ],
   "source": [
    "test_dir = 'flowers/test'\n",
    "image_dir = test_dir + '/' + random.choice(os.listdir(test_dir))\n",
    "image_path = image_dir + '/' + random.choice(os.listdir(image_dir))\n",
    "\n",
    "image = Image.open(image_path)\n",
    "image = image.resize((256, 256))\n",
    "image.thumbnail((224, 224))\n",
    "np_image = np.array(image)\n",
    "mean = np.array([0.485, 0.456, 0.406])\n",
    "std = np.array([0.229, 0.224, 0.225])\n",
    "np_image = (np_image - mean) / std\n",
    "print(np_image[0][0])\n",
    "print(len(np_image[0][0]))\n",
    "# np_image.transpose\n"
   ]
  },
  {
   "cell_type": "code",
   "execution_count": 16,
   "metadata": {},
   "outputs": [],
   "source": [
    "def process_image2(image):\n",
    "    ''' Scales, crops, and normalizes a PIL image for a PyTorch model,\n",
    "        returns an Numpy array\n",
    "    \n",
    "    Arguments:\n",
    "    image -- object, PIL image to be processed\n",
    "    '''\n",
    "    \n",
    "    image = Image.open(image_path)\n",
    "    \n",
    "    # Resize the image\n",
    "    image = image.resize((256, 256))\n",
    "    \n",
    "    # Crop out the center 224x224 portion of the image(left, upper, right, lower), with (0, 0) at left-upper corner\n",
    "    image = image.crop((16, 16, 240, 240))\n",
    "    \n",
    "    # Covert PIL image to Numpy array\n",
    "    image_np = np.array(image).astype(float) / 255\n",
    "    \n",
    "    # Normallization\n",
    "    mean = np.array([0.485, 0.456, 0.406])\n",
    "    std = np.array([0.229, 0.224, 0.225])\n",
    "    image_np = (image_np - mean) / std\n",
    "    # Reorder the dimension to [C, H, W]\n",
    "    image_np = image_np.transpose(2, 0, 1)\n",
    "    # Covert Numpy image to tensor\n",
    "    #image_tensor = torch.tensor(image_np).type(torch.FloatTensor).resize_(1,3,224,224)\n",
    "    \n",
    "    return image_np"
   ]
  },
  {
   "cell_type": "markdown",
   "metadata": {},
   "source": [
    "要检查你的项目，可以使用以下函数来转换 PyTorch 张量并将其显示在  notebook 中。如果 `process_image` 函数可行，用该函数运行输出应该会返回原始图像（但是剪裁掉的部分除外）。"
   ]
  },
  {
   "cell_type": "code",
   "execution_count": 1,
   "metadata": {},
   "outputs": [],
   "source": [
    "def imshow(image, ax=None, title=None, show=True):\n",
    "    \"\"\"Imshow for Tensor.\"\"\"\n",
    "    if ax is None:\n",
    "        fig, ax = plt.subplots()\n",
    "    \n",
    "    # PyTorch tensors assume the color channel is the first dimension\n",
    "    # but matplotlib assumes is the third dimension\n",
    "    image = image.transpose((1, 2, 0))\n",
    "    \n",
    "    # Undo preprocessing\n",
    "    mean = np.array([0.485, 0.456, 0.406])\n",
    "    std = np.array([0.229, 0.224, 0.225])\n",
    "    image = std * image + mean\n",
    "    \n",
    "    # Image needs to be clipped between 0 and 1 or it looks like noise when displayed\n",
    "    image = np.clip(image, 0, 1)\n",
    "    \n",
    "#     ax.title(title)\n",
    "    ax.set_title(title)\n",
    "    ax.imshow(image)\n",
    "    \n",
    "    return ax"
   ]
  },
  {
   "cell_type": "code",
   "execution_count": 2,
   "metadata": {
    "scrolled": true
   },
   "outputs": [
    {
     "ename": "NameError",
     "evalue": "name 'random' is not defined",
     "output_type": "error",
     "traceback": [
      "\u001b[0;31m---------------------------------------------------------------------------\u001b[0m",
      "\u001b[0;31mNameError\u001b[0m                                 Traceback (most recent call last)",
      "\u001b[0;32m<ipython-input-2-e4168fb13b48>\u001b[0m in \u001b[0;36m<module>\u001b[0;34m()\u001b[0m\n\u001b[1;32m      1\u001b[0m \u001b[0mtest_dir\u001b[0m \u001b[0;34m=\u001b[0m \u001b[0;34m'flowers/test'\u001b[0m\u001b[0;34m\u001b[0m\u001b[0m\n\u001b[0;32m----> 2\u001b[0;31m \u001b[0mimage_dir\u001b[0m \u001b[0;34m=\u001b[0m \u001b[0mtest_dir\u001b[0m \u001b[0;34m+\u001b[0m \u001b[0;34m'/'\u001b[0m \u001b[0;34m+\u001b[0m \u001b[0mrandom\u001b[0m\u001b[0;34m.\u001b[0m\u001b[0mchoice\u001b[0m\u001b[0;34m(\u001b[0m\u001b[0mos\u001b[0m\u001b[0;34m.\u001b[0m\u001b[0mlistdir\u001b[0m\u001b[0;34m(\u001b[0m\u001b[0mtest_dir\u001b[0m\u001b[0;34m)\u001b[0m\u001b[0;34m)\u001b[0m\u001b[0;34m\u001b[0m\u001b[0m\n\u001b[0m\u001b[1;32m      3\u001b[0m \u001b[0mimage_path\u001b[0m \u001b[0;34m=\u001b[0m \u001b[0mimage_dir\u001b[0m \u001b[0;34m+\u001b[0m \u001b[0;34m'/'\u001b[0m \u001b[0;34m+\u001b[0m \u001b[0mrandom\u001b[0m\u001b[0;34m.\u001b[0m\u001b[0mchoice\u001b[0m\u001b[0;34m(\u001b[0m\u001b[0mos\u001b[0m\u001b[0;34m.\u001b[0m\u001b[0mlistdir\u001b[0m\u001b[0;34m(\u001b[0m\u001b[0mimage_dir\u001b[0m\u001b[0;34m)\u001b[0m\u001b[0;34m)\u001b[0m\u001b[0;34m\u001b[0m\u001b[0m\n\u001b[1;32m      4\u001b[0m \u001b[0mprint\u001b[0m\u001b[0;34m(\u001b[0m\u001b[0mimage_path\u001b[0m\u001b[0;34m)\u001b[0m\u001b[0;34m\u001b[0m\u001b[0m\n\u001b[1;32m      5\u001b[0m \u001b[0mimshow\u001b[0m\u001b[0;34m(\u001b[0m\u001b[0mprocess_image\u001b[0m\u001b[0;34m(\u001b[0m\u001b[0mimage_path\u001b[0m\u001b[0;34m)\u001b[0m\u001b[0;34m,\u001b[0m \u001b[0mtitle\u001b[0m\u001b[0;34m=\u001b[0m\u001b[0;34m'Flowers'\u001b[0m\u001b[0;34m)\u001b[0m\u001b[0;34m\u001b[0m\u001b[0m\n",
      "\u001b[0;31mNameError\u001b[0m: name 'random' is not defined"
     ]
    }
   ],
   "source": [
    "test_dir = 'flowers/test'\n",
    "image_dir = test_dir + '/' + random.choice(os.listdir(test_dir))\n",
    "image_path = image_dir + '/' + random.choice(os.listdir(image_dir))\n",
    "print(image_path)\n",
    "imshow(process_image(image_path), title='Flowers')\n",
    "\n",
    "# import time\n",
    "\n",
    "# time1 = time.time()\n",
    "# [process_image(image_path) for _ in range(1)]\n",
    "# print('my time:', time.time() - time1)\n",
    "\n",
    "# time1 = time.time()\n",
    "# [process_image2(image_path) for _ in range(1)]\n",
    "# print('test time:', time.time() - time1)"
   ]
  },
  {
   "cell_type": "markdown",
   "metadata": {},
   "source": [
    "## 类别预测\n",
    "\n",
    "可以获得格式正确的图像后 \n",
    "\n",
    "要获得前 $K$ 个值，在张量中使用 [`x.topk(k)`](http://pytorch.org/docs/master/torch.html#torch.topk)。该函数会返回前 `k` 个概率和对应的类别索引。你需要使用  `class_to_idx`（希望你将其添加到了模型中）将这些索引转换为实际类别标签，或者从用来加载数据的[ `ImageFolder`](https://pytorch.org/docs/master/torchvision/datasets.html?highlight=imagefolder#torchvision.datasets.ImageFolder)进行转换。确保颠倒字典\n",
    "\n",
    "同样，此方法应该接受图像路径和模型检查点，并返回概率和类别。"
   ]
  },
  {
   "cell_type": "code",
   "execution_count": 41,
   "metadata": {},
   "outputs": [],
   "source": [
    "def predict(image_path, model, topk=5, device='cpu'):\n",
    "    ''' Predict the class (or classes) of an image using a trained deep learning model.\n",
    "    '''\n",
    "    \"\"\"\n",
    "    torch.topk:\n",
    "    第一个参数需要的是tensor对象  第二个就是需要的前几个值\n",
    "    \"\"\"\n",
    "    if torch.cuda.is_available() and device == 'cuda':\n",
    "        device = 'cuda'\n",
    "    else:\n",
    "        device = 'cpu'\n",
    "        \n",
    "    image_pil = process_image(image_path)  # PIL格式\n",
    "    \n",
    "    image_tensor = torch.tensor(image_pil)\n",
    "\n",
    "    # 第一种方法， 直接一层转换\n",
    "#     image_tensor = image_tensor.type(torch.cuda.FloatTensor).resize(1, 3, 224, 224).to(device)\n",
    "    \n",
    "    # 第二种方法，先增加维度在转float\n",
    "    image_tensor = image_tensor.unsqueeze_(0).float().to(device)\n",
    "\n",
    "#     model = model.float()\n",
    "    model.to(device)\n",
    "    model.eval()\n",
    "    \n",
    "    with torch.no_grad():\n",
    "        output = model.forward(image_tensor)\n",
    "        \n",
    "    output = torch.exp(output)\n",
    "    probs, classes = torch.topk(output, topk, sorted=True)\n",
    "    \n",
    "    return probs.tolist()[0], classes.tolist()[0]\n",
    "    # TODO: Implement the code to predict the class from an image file"
   ]
  },
  {
   "cell_type": "code",
   "execution_count": 42,
   "metadata": {},
   "outputs": [
    {
     "name": "stdout",
     "output_type": "stream",
     "text": [
      "[0.37485265731811523, 0.04128008708357811, 0.037470970302820206, 0.03217645362019539, 0.031191283836960793]\n",
      "[99, 90, 98, 39, 81]\n"
     ]
    }
   ],
   "source": [
    "probs, classes = predict(image_path, model, device='cuda')\n",
    "print(probs)\n",
    "print(classes)\n",
    "# [ 0.01558163  0.01541934  0.01452626  0.01443549  0.01407339]\n",
    "# ['70', '3', '45', '62', '55']"
   ]
  },
  {
   "cell_type": "code",
   "execution_count": 201,
   "metadata": {},
   "outputs": [],
   "source": [
    "def show_type_rank(probs, classes, image_path):\n",
    "    model.class_to_idx = cat_to_name   # 这个在load_state的时候就应该加载了，  这里作为测试用  需要重新训练模型并保存\n",
    "    class_to_idx = {i:j for j, i in train_datasets.class_to_idx.items()}  # 因为使用训练集训练 所以先对应到训练集  在对应到json\n",
    "#     classes = [model.class_to_idx[str(classs)] for classs in classes]  #  没有使用训练集先对应\n",
    "    classes = [model.class_to_idx[str(class_to_idx[classs])] for classs in classes]\n",
    "    print(probs)\n",
    "    print(classes)\n",
    "    probs.reverse()\n",
    "    classes.reverse()\n",
    "    \n",
    "    plt.figure(figsize = [10, 5]) \n",
    "    ax1 = plt.subplot(1, 2, 1)\n",
    "    ax1 = imshow(process_image(image_path), ax=ax1, title=classes[-1])\n",
    "    ax1.set_xticks([])\n",
    "    ax1.set_yticks([])\n",
    "\n",
    "    ax2 = plt.subplot(1, 2, 2)\n",
    "    y_len = np.arange(len(classes))\n",
    "    ax2.barh(y_len, probs, height=0.7, align='center', tick_label=probs)\n",
    "    ax2.set_yticks(y_len)\n",
    "#     ax.invert_yaxis()\n",
    "    ax2.set_yticklabels(classes)\n",
    "    ax2.set_title('F_classif scores of the features.')\n",
    "    \n",
    "    plt.show()\n",
    "    return classes "
   ]
  },
  {
   "cell_type": "code",
   "execution_count": 202,
   "metadata": {},
   "outputs": [
    {
     "name": "stdout",
     "output_type": "stream",
     "text": [
      "[0.37485265731811523, 0.04128008708357811, 0.037470970302820206, 0.03217645362019539, 0.031191283836960793]\n",
      "['mallow', 'watercress', 'camellia', 'daffodil', 'anthurium']\n"
     ]
    },
    {
     "data": {
      "image/png": "[encoded data removed]",
      "text/plain": [
       "<matplotlib.figure.Figure at 0x7f9b918adeb8>"
      ]
     },
     "metadata": {
      "needs_background": "light"
     },
     "output_type": "display_data"
    },
    {
     "data": {
      "text/plain": [
       "['anthurium', 'daffodil', 'camellia', 'watercress', 'mallow']"
      ]
     },
     "execution_count": 202,
     "metadata": {},
     "output_type": "execute_result"
    }
   ],
   "source": [
    "show_type_rank(probs, classes, image_path)"
   ]
  },
  {
   "cell_type": "code",
   "execution_count": 53,
   "metadata": {},
   "outputs": [
    {
     "name": "stdout",
     "output_type": "stream",
     "text": [
      "102\n"
     ]
    },
    {
     "data": {
      "text/plain": [
       "102"
      ]
     },
     "execution_count": 53,
     "metadata": {},
     "output_type": "execute_result"
    }
   ],
   "source": [
    "print(len(train_datasets.class_to_idx))\n",
    "len(cat_to_name)"
   ]
  },
  {
   "cell_type": "markdown",
   "metadata": {},
   "source": [
    "## 检查运行状况\n",
    "\n",
    "你已经可以使用训练的模型做出预测，现在检查模型的性能如何。即使测试准确率很高，始终有必要检查是否存在明显的错误。使用 `matplotlib` 将前 5 个类别的概率以及输入图像绘制为条形图，应该如下所示：\n",
    "\n",
    "<img src='assets/inference_example.png' width=300px>\n",
    "\n",
    "你可以使用 `cat_to_name.json` 文件（应该之前已经在 notebook 中加载该文件）将类别整数编码转换为实际花卉名称。要将 PyTorch 张量显示为图像，请使用定义如下的 `imshow` 函数。"
   ]
  }
 ],
 "metadata": {
  "kernelspec": {
   "display_name": "Python 3",
   "language": "python",
   "name": "python3"
  },
  "language_info": {
   "codemirror_mode": {
    "name": "ipython",
    "version": 3
   },
   "file_extension": ".py",
   "mimetype": "text/x-python",
   "name": "python",
   "nbconvert_exporter": "python",
   "pygments_lexer": "ipython3",
   "version": "3.6.5"
  }
 },
 "nbformat": 4,
 "nbformat_minor": 2
}
