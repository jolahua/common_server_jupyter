{
 "cells": [
  {
   "cell_type": "code",
   "execution_count": 4,
   "metadata": {},
   "outputs": [],
   "source": [
    "import requests\n",
    "import json"
   ]
  },
  {
   "cell_type": "code",
   "execution_count": 2,
   "metadata": {},
   "outputs": [],
   "source": [
    " headers = {\n",
    "            'Accept': 'application/json',\n",
    "            'Referer': 'https://m.douban.com/people/3562885//',\n",
    "            'User-Agent': 'Mozilla/5.0 (Linux; Android 6.0; Nexus 5 Build/MRA58N) AppleWebKit/537.36 '\n",
    "                          '(KHTML, like Gecko) Chrome/72.0.3626.121 Mobile Safari/537.36',\n",
    "            'X-Requested-With': 'XMLHttpRequest'\n",
    "        }\n",
    "url = 'https://m.douban.com/rexxar/api/v2/user/3562885?ck=&for_mobile=1'\n",
    "res = requests.get(url, headers=headers)"
   ]
  },
  {
   "cell_type": "code",
   "execution_count": 5,
   "metadata": {},
   "outputs": [
    {
     "data": {
      "text/plain": [
       "{'reviews_count': 0,\n",
       " 'followed': False,\n",
       " 'uid': 'miss_CMYK',\n",
       " 'following_count': 129,\n",
       " 'gallery_topics_count': 0,\n",
       " 'is_qq_bound': False,\n",
       " 'weibo_name': '',\n",
       " 'verify_works_count': 0,\n",
       " 'intro': '每一个人\\n伤心了就哭泣\\n饿了就要吃\\n相差大不过天地\\n有何刺激\\n\\n有太多太多魔力\\n太少道理\\n太多太多游戏\\n只是为了好奇\\n\\n还有什么值得\\n歇斯底里\\n对什么东西\\n死心塌地\\n\\n谁曾伤天害理\\n谁又是上帝\\n我们在等待\\n什么奇迹\\n\\n最后剩下自己\\n舍不得挑剔\\n最后对着自己\\n也不大看得起\\n谁给我全世界\\n我都会怀疑\\n心花怒放\\n却开到荼蘼\\n\\n一个一个一个人\\n谁比谁美丽\\n谁比谁甜蜜\\n谁比谁容易\\n又有什么了不起\\n和谁擦身而过\\n都那么整齐\\n碰见所爱的人\\n却心有余悸\\n    \\n    \\n    ',\n",
       " 'has_password': True,\n",
       " 'notes_count': 0,\n",
       " 'id': '3562885',\n",
       " 'loc': {'id': '108296', 'name': '上海', 'uid': 'shanghai'},\n",
       " 'reg_time': '2009-01-31 20:57:59',\n",
       " 'listeners_count': 0,\n",
       " 'joined_group_count': 109,\n",
       " 'show_fanta': False,\n",
       " 'owned_events_count': 1,\n",
       " 'is_weibo_bound': False,\n",
       " 'verify_name': '',\n",
       " 'movie_collected_count': 306,\n",
       " 'kind': 'user',\n",
       " 'user_hot_module_enabled': False,\n",
       " 'followers_count': 107,\n",
       " 'viewers_count': 0,\n",
       " 'readonly_message': '',\n",
       " 'is_phone_bound': False,\n",
       " 'verify_type': 0,\n",
       " 'updated_profile': True,\n",
       " 'display_followers_count': '107',\n",
       " 'type': 'user',\n",
       " 'email': '',\n",
       " 'avatar': 'https://img3.doubanio.com/icon/up3562885-51.jpg',\n",
       " 'phone_number': '',\n",
       " 'verify_roles': [],\n",
       " 'niffler_columns_count': 0,\n",
       " 'statuses_count': 886,\n",
       " 'ark_published_count': 0,\n",
       " 'readers_count': 0,\n",
       " 'group_chat_count': 0,\n",
       " 'wechat_name': '',\n",
       " 'is_phone_verified': True,\n",
       " 'show_audience_count': False,\n",
       " 'photo_albums_count': 3,\n",
       " 'birthday': '1986-11-04',\n",
       " 'has_set_profile': True,\n",
       " 'fanta_can_ask': False,\n",
       " 'qq_name': '',\n",
       " 'can_set_original': False,\n",
       " 'fanta_enabled': False,\n",
       " 'subscribe_niffler_columns_count': 1,\n",
       " 'show_cart': False,\n",
       " 'remark': '',\n",
       " 'dramas_count': 0,\n",
       " 'name': '纱纱纱纱纱豆',\n",
       " 'is_readonly': False,\n",
       " 'owned_doulist_count': 8,\n",
       " 'is_abnormal': False,\n",
       " 'gender': 'F',\n",
       " 'is_wechat_bound': False,\n",
       " 'verify_reason': '',\n",
       " 'uri': 'douban://douban.com/user/3562885',\n",
       " 'has_user_hot_module': False,\n",
       " 'is_subject_noviciate': False,\n",
       " 'medal_groups': [],\n",
       " 'url': 'https://www.douban.com/people/3562885/',\n",
       " 'following_doulist_count': 7,\n",
       " 'in_blacklist': False,\n",
       " 'large_avatar': 'https://qnmob3.doubanio.com/icon/ur3562885-51.jpg?imageView2/2/q/80/w/640/h/640/format/jpg',\n",
       " 'profile_banner': {'is_default': False,\n",
       "  'large': 'https://qnmob3.doubanio.com/view/user_profile_banner/large/public/583097d5d33345d.jpg?imageView2/0/q/80/w/640/h/640/format/jpg',\n",
       "  'normal': 'https://qnmob3.doubanio.com/view/user_profile_banner/large/public/583097d5d33345d.jpg?imageView2/0/q/80/w/640/h/640/format/jpg'},\n",
       " 'can_donate': False,\n",
       " 'is_normal': True}"
      ]
     },
     "execution_count": 5,
     "metadata": {},
     "output_type": "execute_result"
    }
   ],
   "source": [
    "json.loads(res.text)"
   ]
  },
  {
   "cell_type": "code",
   "execution_count": null,
   "metadata": {},
   "outputs": [],
   "source": []
  }
 ],
 "metadata": {
  "kernelspec": {
   "display_name": "Python 3",
   "language": "python",
   "name": "python3"
  },
  "language_info": {
   "codemirror_mode": {
    "name": "ipython",
    "version": 3
   },
   "file_extension": ".py",
   "mimetype": "text/x-python",
   "name": "python",
   "nbconvert_exporter": "python",
   "pygments_lexer": "ipython3",
   "version": "3.6.5"
  }
 },
 "nbformat": 4,
 "nbformat_minor": 2
}
